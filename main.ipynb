{
  "cells": [
    {
      "cell_type": "markdown",
      "metadata": {
        "id": "W16YTjv7L_B6"
      },
      "source": [
        "<h1>Beta-Variational Autoencoder with Noise-Contrastive Priors"
      ]
    },
    {
      "cell_type": "markdown",
      "metadata": {
        "id": "UQmbqtJcL_B8"
      },
      "source": [
        "<h2>Import required libraries"
      ]
    },
    {
      "cell_type": "code",
      "execution_count": null,
      "metadata": {
        "id": "G7D0OzRPL_B8"
      },
      "outputs": [],
      "source": [
        "# Standard Libraries\n",
        "import random\n",
        "import numpy as np\n",
        "import matplotlib.pyplot as plt\n",
        "from tqdm.notebook import tqdm\n",
        "\n",
        "# PyTorch and related libraries\n",
        "import torch\n",
        "import torch.nn as nn\n",
        "import torch.nn.functional as F\n",
        "import torch.optim as optim\n",
        "from torchvision import datasets, transforms\n",
        "from torch.utils.data import Dataset, DataLoader\n",
        "from torch.optim.lr_scheduler import ReduceLROnPlateau"
      ]
    },
    {
      "cell_type": "markdown",
      "metadata": {
        "id": "TgpWWAS-L_B9"
      },
      "source": [
        "<h2>Initialize device"
      ]
    },
    {
      "cell_type": "code",
      "execution_count": null,
      "metadata": {
        "id": "UmxD1IDLL_B9"
      },
      "outputs": [],
      "source": [
        "device = torch.device(\"cuda:0\" if torch.cuda.is_available() else \"cpu\")\n",
        "torch.cuda.empty_cache()"
      ]
    },
    {
      "cell_type": "markdown",
      "source": [
        "<h2> Initialize constants"
      ],
      "metadata": {
        "id": "pqGRqOf0NPUu"
      }
    },
    {
      "cell_type": "code",
      "source": [
        "IMAGE_SIZE = 28\n",
        "FLATTEN_SIZE = IMAGE_SIZE * IMAGE_SIZE\n",
        "LATENT_SIZE = 100\n",
        "NUM_SAMPLES = 8"
      ],
      "metadata": {
        "id": "dRIsmRc0NPBt"
      },
      "execution_count": null,
      "outputs": []
    },
    {
      "cell_type": "markdown",
      "source": [
        "<h2> Load the dataset"
      ],
      "metadata": {
        "id": "5xVq9NXGQzcC"
      }
    },
    {
      "cell_type": "code",
      "source": [
        "# Custom Transform: Flatten and Normalize\n",
        "class FlattenAndNormalize:\n",
        "    def __call__(self, image):\n",
        "        # Flatten\n",
        "        image = torch.flatten(image)\n",
        "        # Normalize by dividing with 27 and rounding\n",
        "        image = torch.round(image / (27/255))\n",
        "        return image\n",
        "\n",
        "transform = transforms.Compose([\n",
        "    transforms.ToTensor(),\n",
        "    FlattenAndNormalize()\n",
        "])\n",
        "train_dataset = datasets.FashionMNIST(root='./data', train=True, download=True, transform=transform)\n",
        "test_dataset = datasets.FashionMNIST(root='./data', train=False, download=True, transform=transform)\n",
        "\n",
        "train_loader = DataLoader(dataset=train_dataset, batch_size=32, shuffle=True)\n",
        "test_loader = DataLoader(dataset=test_dataset, batch_size=16, shuffle=True)"
      ],
      "metadata": {
        "id": "pjxnvOcuQzR-"
      },
      "execution_count": null,
      "outputs": []
    },
    {
      "cell_type": "markdown",
      "metadata": {
        "id": "nkm1C9YeL_B-"
      },
      "source": [
        "<h2> Function to sample images from dataset"
      ]
    },
    {
      "cell_type": "code",
      "execution_count": null,
      "metadata": {
        "id": "r4jt84quL_B-"
      },
      "outputs": [],
      "source": [
        "def display_images(image_list, rows, columns):\n",
        "    fig, grid = plt.subplots(rows, columns)\n",
        "    for i in range(rows):\n",
        "        for j in range(columns):\n",
        "            grid[i, j].axis('off')\n",
        "            grid[i, j].imshow(np.reshape(image_list[(i-1)*rows + j], (IMAGE_SIZE, IMAGE_SIZE)))\n",
        "\n",
        "# Display sample images\n",
        "random_indices = torch.randint(0, len(train_dataset), (NUM_SAMPLES,))\n",
        "sample_images = [train_dataset[i][0].squeeze().numpy() for i in random_indices]\n",
        "display_images(sample_images, 2, 4)"
      ]
    },
    {
      "cell_type": "markdown",
      "metadata": {
        "id": "zfn75hnuL_B_"
      },
      "source": [
        "<h2>Defining the Variational Autoencoder class"
      ]
    },
    {
      "cell_type": "code",
      "execution_count": null,
      "metadata": {
        "id": "JiBcPLJUL_CA"
      },
      "outputs": [],
      "source": [
        "latent_size = 100\n",
        "\n",
        "class VariationalAE(nn.Module):\n",
        "    def __init__(self):\n",
        "        super(VariationalAE, self).__init__()\n",
        "\n",
        "        # Define the encoder layers\n",
        "        self.encoder = nn.Sequential(\n",
        "            nn.Linear(784, 512),\n",
        "            nn.ReLU(),\n",
        "            nn.Linear(512, 256),\n",
        "            nn.ReLU(),\n",
        "            nn.Linear(256, 128),\n",
        "            nn.ReLU(),\n",
        "            nn.Linear(128, 64),\n",
        "            nn.ReLU(),\n",
        "            nn.Linear(64, 2 * latent_size)  # Outputs both mean and log variance\n",
        "        )\n",
        "\n",
        "        # Define the decoder layers\n",
        "        self.decoder = nn.Sequential(\n",
        "            nn.Linear(latent_size, 64),\n",
        "            nn.ReLU(),\n",
        "            nn.Linear(64, 128),\n",
        "            nn.ReLU(),\n",
        "            nn.Linear(128, 256),\n",
        "            nn.ReLU(),\n",
        "            nn.Linear(256, 512),\n",
        "            nn.ReLU(),\n",
        "            nn.Linear(512, 784)\n",
        "        )\n",
        "\n",
        "    def reparameterize(self, mean, log_variance):\n",
        "        \"\"\"\n",
        "        Using the reparameterization trick to sample from the distribution\n",
        "        defined by mean and log_variance.\n",
        "        \"\"\"\n",
        "        std_dev = torch.exp(0.5 * log_variance)\n",
        "        epsilon = torch.randn_like(std_dev)\n",
        "        return mean + (epsilon * std_dev)\n",
        "\n",
        "    def forward(self, x):\n",
        "        encoded = self.encoder(x)\n",
        "        mean, log_variance = torch.split(encoded, latent_size, dim=1)\n",
        "        z = self.reparameterize(mean, log_variance)\n",
        "        return mean, log_variance, self.decoder(z)"
      ]
    },
    {
      "cell_type": "markdown",
      "metadata": {
        "id": "8eZ9VNObL_CA"
      },
      "source": [
        "<h2>Training the AutoEncoder model"
      ]
    },
    {
      "cell_type": "code",
      "source": [
        "vae_model = VariationalAE().to(device)\n",
        "model_parameters = list(vae_model.parameters())\n",
        "\n",
        "# Hyperparameters\n",
        "learning_rate = 1e-3\n",
        "epochs = 10\n",
        "beta = 0.75\n",
        "\n",
        "# Loss function\n",
        "reconstruction_loss = nn.MSELoss()\n",
        "\n",
        "# Optimizer\n",
        "optimizer = torch.optim.SGD(model_parameters, lr = learning_rate, momentum = 0.7)\n",
        "\n",
        "# Learning rate scheduler\n",
        "scheduler = ReduceLROnPlateau(optimizer, mode='min', patience=2, factor=0.25, verbose=True)\n",
        "\n",
        "# To keep track of the best model\n",
        "best_loss = float('inf')\n",
        "model_save_path = 'vae_model.pth'\n",
        "\n",
        "# Training loop\n",
        "for epoch in range(epochs):\n",
        "    train_loss = 0.0\n",
        "\n",
        "    # tqdm.notebook progress bar\n",
        "    for batch_idx, (data, _) in tqdm(enumerate(train_loader), total=len(train_loader), desc=f\"Epoch {epoch+1}/{epochs}\"):\n",
        "        data = data.to(device)\n",
        "        optimizer.zero_grad()\n",
        "\n",
        "        # Forward pass\n",
        "        mu, logvar, recon_data = vae_model(data)\n",
        "\n",
        "        # Calculate losses\n",
        "        MSE = reconstruction_loss(recon_data, data)\n",
        "        KLD = -0.5 * torch.sum(1 + logvar - mu.pow(2) - logvar.exp())\n",
        "        loss = MSE + beta * KLD\n",
        "\n",
        "        # Backpropagation\n",
        "        loss.backward()\n",
        "        train_loss += loss.item()\n",
        "        optimizer.step()\n",
        "\n",
        "    avg_train_loss = train_loss / len(train_loader.dataset)\n",
        "    # Update scheduler with the current epoch's loss\n",
        "    scheduler.step(avg_train_loss)\n",
        "\n",
        "    # Print epoch results\n",
        "    print(f\"Epoch {epoch + 1}/{epochs}| Loss: {avg_train_loss:.6f}\")\n",
        "\n",
        "    # Save the best model\n",
        "    if avg_train_loss < best_loss:\n",
        "        best_loss = avg_train_loss\n",
        "        torch.save(vae_model.state_dict(), model_save_path)"
      ],
      "metadata": {
        "id": "f8v_pw7VVeJF"
      },
      "execution_count": null,
      "outputs": []
    },
    {
      "cell_type": "markdown",
      "source": [
        "<h2> Loading the model for Evaluation"
      ],
      "metadata": {
        "id": "m_fB91dJxPO0"
      }
    },
    {
      "cell_type": "code",
      "execution_count": null,
      "metadata": {
        "id": "L09CZfZGL_CA"
      },
      "outputs": [],
      "source": [
        "try:\n",
        "    vae_model = VariationalAE().to(device)\n",
        "    vae_model.load_state_dict(torch.load(\"vae_model.pth\"))\n",
        "    vae_model.eval()\n",
        "    print(\"Model loaded successfully.\")\n",
        "except FileNotFoundError:\n",
        "    print(\"Saved model state not found. Initialized a new model instead.\")\n"
      ]
    },
    {
      "cell_type": "markdown",
      "metadata": {
        "id": "UvCaX6m-L_CA"
      },
      "source": [
        "<h2>Binary Classifier"
      ]
    },
    {
      "cell_type": "code",
      "execution_count": null,
      "metadata": {
        "id": "2numze3QL_CA"
      },
      "outputs": [],
      "source": [
        "class BinaryClassifier(torch.nn.Module):\n",
        "    def __init__(self):\n",
        "        super().__init__()\n",
        "        self.layer1 = nn.Linear(in_features = LATENT_SIZE, out_features = 40)\n",
        "        self.layer2 = nn.Linear(in_features = 40, out_features = 30)\n",
        "        self.layer3 = nn.Linear(in_features = 30, out_features = 20)\n",
        "        self.layer4 = nn.Linear(in_features = 20, out_features = 10)\n",
        "        self.layer5 = nn.Linear(in_features = 10, out_features = 1)\n",
        "        self.activation = nn.Sigmoid()\n",
        "\n",
        "    def forward(self, x):\n",
        "        x = self.layer1(x)\n",
        "        x = F.relu(x)\n",
        "        x = self.layer2(x)\n",
        "        x = F.relu(x)\n",
        "        x = self.layer3(x)\n",
        "        x = F.relu(x)\n",
        "        x = self.layer4(x)\n",
        "        x = F.relu(x)\n",
        "        x = self.layer5(x)\n",
        "        x = self.activation(x)\n",
        "        return x"
      ]
    },
    {
      "cell_type": "code",
      "execution_count": null,
      "metadata": {
        "id": "5V8zqdbpL_CA"
      },
      "outputs": [],
      "source": [
        "# Run the Encoder and Create Labels\n",
        "with torch.no_grad():\n",
        "    for batch_idx, (data, _) in enumerate(train_loader):\n",
        "        data = data.to(device)\n",
        "        z = vae_model.encoder(data)\n",
        "        infMean, infLogVariance = torch.split(z, LATENT_SIZE, dim=1)\n",
        "        break  # Only need one batch for this example\n",
        "\n",
        "# Creating Latent Space Data for Classifier\n",
        "qzx = vae_model.reparameterize(infMean, infLogVariance)\n",
        "pzx = torch.randn((len(data), LATENT_SIZE), device=device)\n",
        "\n",
        "# Creating Labels for Classifier Training Data\n",
        "qzxLabel = torch.ones((len(data), 1)).to(device)\n",
        "pzxLabel = torch.zeros((len(data), 1)).to(device)\n",
        "\n",
        "# Preparing Data and Labels for Binary Classifier\n",
        "trainLabels = torch.cat((qzxLabel, pzxLabel)).to(device)\n",
        "trainData = torch.cat((qzx, pzx)).to(device)"
      ]
    },
    {
      "cell_type": "code",
      "execution_count": null,
      "metadata": {
        "id": "vv1t2MCsL_CB"
      },
      "outputs": [],
      "source": [
        "class customDataset(Dataset):\n",
        "    def __init__(self, data, labels, transform = None):\n",
        "        self.transform = transform\n",
        "        self.data = data\n",
        "        self.labels = labels\n",
        "\n",
        "    def __len__(self):\n",
        "        return len(self.labels)\n",
        "\n",
        "    def __getitem__(self, index):\n",
        "        image = self.data[index]\n",
        "        label = self.labels[index]\n",
        "        return image, label"
      ]
    },
    {
      "cell_type": "code",
      "execution_count": null,
      "metadata": {
        "id": "cvVyOcBOL_CB"
      },
      "outputs": [],
      "source": [
        "trainDataset = customDataset(data = trainData, labels = trainLabels)\n",
        "binaryTrainLoader = DataLoader(dataset = trainDataset, batch_size = 100, shuffle = True)"
      ]
    },
    {
      "cell_type": "code",
      "execution_count": null,
      "metadata": {
        "id": "wTr4eS50L_CB"
      },
      "outputs": [],
      "source": [
        "bcModel = BinaryClassifier().to(device)\n",
        "criterion = nn.BCELoss()\n",
        "optimizer = optim.SGD(bcModel.parameters(), lr = (1e-2), momentum=0.8)\n",
        "\n",
        "# Learning rate scheduler\n",
        "scheduler = ReduceLROnPlateau(optimizer, 'min', patience=3, factor=0.5, verbose=True)\n",
        "\n",
        "lowestEpochLoss = []\n",
        "averageEpochLoss = []\n",
        "epochList = np.arange(0, 25, dtype = int)\n",
        "\n",
        "encoderOutputs = []\n",
        "decoderOutputs = []\n",
        "for epoch in range(25):\n",
        "    losses = []\n",
        "    for batchIndex, (batchImage, batchLabels) in enumerate(binaryTrainLoader):\n",
        "        batchImage = batchImage.to(device)\n",
        "        batchLabels = batchLabels.to(device)\n",
        "        predictedOutput = bcModel(batchImage)\n",
        "        loss = criterion(predictedOutput, batchLabels)\n",
        "        optimizer.zero_grad()\n",
        "        loss.backward(retain_graph=True)\n",
        "        optimizer.step()\n",
        "        losses.append(loss.cpu().detach().numpy())\n",
        "\n",
        "    avg_loss = np.average(losses)\n",
        "    print(\"Epoch:\", epoch, \"| Average loss:\", np.round(avg_loss, 2), \"| Lowest Loss:\", np.round(np.amin(losses), 2))\n",
        "\n",
        "    # Update scheduler with the current epoch's average loss\n",
        "    scheduler.step(avg_loss)\n",
        "\n",
        "    lowestEpochLoss.append(np.amin(losses))\n",
        "    averageEpochLoss.append(avg_loss)\n",
        "\n",
        "torch.save(bcModel.state_dict(), \"bc.pth\")"
      ]
    },
    {
      "cell_type": "code",
      "execution_count": null,
      "metadata": {
        "id": "Gn6oppV7L_CB"
      },
      "outputs": [],
      "source": [
        "plt.plot(epochList, lowestEpochLoss, color = 'blue', label = 'Lowest loss')\n",
        "plt.plot(epochList, averageEpochLoss, color = 'red', label = 'Average loss')\n",
        "plt.xlabel('Epoch')\n",
        "plt.ylabel('Loss per epoch')\n",
        "plt.show()"
      ]
    },
    {
      "cell_type": "code",
      "execution_count": null,
      "metadata": {
        "id": "dVQn0HHiL_CB"
      },
      "outputs": [],
      "source": [
        "bcModel.eval()\n",
        "bcModel(torch.rand((1, LATENT_SIZE), device=device)).item()"
      ]
    },
    {
      "cell_type": "code",
      "execution_count": null,
      "metadata": {
        "id": "ycto8xl4L_CB"
      },
      "outputs": [],
      "source": [
        "bcModel.eval()\n",
        "randomIndices = random.sample(range(0, len(data)), 1)\n",
        "bcModel(trainData[randomIndices]).item()"
      ]
    },
    {
      "cell_type": "code",
      "execution_count": null,
      "metadata": {
        "id": "ntFX5EnaL_CC"
      },
      "outputs": [],
      "source": [
        "z0 = torch.randn(LATENT_SIZE, device=device, requires_grad=True)\n",
        "z0 = z0.view(1, -1)  # Reshape to 2D: [1, LATENT_SIZE]\n",
        "\n",
        "stepSize = 1e-2\n",
        "normalMean = torch.tensor([0.0], device=device)\n",
        "normalSTD = torch.tensor([1.0], device=device)\n",
        "\n",
        "for timeStamp in range(1000):\n",
        "    dZ = bcModel(z0)\n",
        "    rZ = dZ / (1 - dZ)\n",
        "\n",
        "    energyFunction = (-torch.log(rZ) - torch.distributions.Normal(normalMean, normalSTD).log_prob(z0).to(device))\n",
        "\n",
        "    grad = torch.autograd.grad(energyFunction.mean(), z0, retain_graph=True)[0]\n",
        "    noise = torch.randn((1, LATENT_SIZE), device=device)\n",
        "\n",
        "    z0 = z0 - (0.5 * stepSize * grad) + (torch.sqrt(torch.tensor(stepSize)) * noise)"
      ]
    },
    {
      "cell_type": "code",
      "execution_count": null,
      "metadata": {
        "id": "yWFW4iYEL_CC"
      },
      "outputs": [],
      "source": [
        "vae_model.eval()\n",
        "output = vae_model.decoder(z0)\n",
        "plt.imshow(output.cpu().detach().numpy().reshape(28,28))"
      ]
    }
  ],
  "metadata": {
    "kernelspec": {
      "display_name": "Python 3.10.4 64-bit",
      "language": "python",
      "name": "python3"
    },
    "language_info": {
      "codemirror_mode": {
        "name": "ipython",
        "version": 3
      },
      "file_extension": ".py",
      "mimetype": "text/x-python",
      "name": "python",
      "nbconvert_exporter": "python",
      "pygments_lexer": "ipython3",
      "version": "3.10.4"
    },
    "orig_nbformat": 4,
    "vscode": {
      "interpreter": {
        "hash": "dce92b59414b6f3d3d2d8fa4cc50c6a1297a8b6cc151ffcfeb96fc9a7b723860"
      }
    },
    "colab": {
      "provenance": []
    }
  },
  "nbformat": 4,
  "nbformat_minor": 0
}